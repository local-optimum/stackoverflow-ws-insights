{
 "cells": [
  {
   "cell_type": "code",
   "execution_count": 1,
   "metadata": {},
   "outputs": [],
   "source": [
    "import matplotlib.pyplot as plt\n",
    "import numpy as np\n",
    "import seaborn as sns\n",
    "import pandas"
   ]
  },
  {
   "cell_type": "code",
   "execution_count": 2,
   "metadata": {},
   "outputs": [],
   "source": [
    "df=pandas.read_csv('Data/survey_results_public.csv')"
   ]
  },
  {
   "cell_type": "code",
   "execution_count": null,
   "metadata": {},
   "outputs": [],
   "source": [
    "df['OpSysProfessional use']=df['OpSysProfessional use'].str.split(';')\n",
    "df['OpSysPersonal use']=df['OpSysPersonal use'].str.split(';')"
   ]
  },
  {
   "cell_type": "code",
   "execution_count": 4,
   "metadata": {},
   "outputs": [
    {
     "data": {
      "text/html": [
       "<div>\n",
       "<style scoped>\n",
       "    .dataframe tbody tr th:only-of-type {\n",
       "        vertical-align: middle;\n",
       "    }\n",
       "\n",
       "    .dataframe tbody tr th {\n",
       "        vertical-align: top;\n",
       "    }\n",
       "\n",
       "    .dataframe thead th {\n",
       "        text-align: right;\n",
       "    }\n",
       "</style>\n",
       "<table border=\"1\" class=\"dataframe\">\n",
       "  <thead>\n",
       "    <tr style=\"text-align: right;\">\n",
       "      <th></th>\n",
       "      <th>OpSys</th>\n",
       "      <th>Professional</th>\n",
       "      <th>Personal</th>\n",
       "    </tr>\n",
       "  </thead>\n",
       "  <tbody>\n",
       "    <tr>\n",
       "      <th>0</th>\n",
       "      <td>Windows</td>\n",
       "      <td>55330</td>\n",
       "      <td>68805</td>\n",
       "    </tr>\n",
       "    <tr>\n",
       "      <th>1</th>\n",
       "      <td>Linux-based</td>\n",
       "      <td>48177</td>\n",
       "      <td>45837</td>\n",
       "    </tr>\n",
       "    <tr>\n",
       "      <th>2</th>\n",
       "      <td>macOS</td>\n",
       "      <td>38441</td>\n",
       "      <td>34545</td>\n",
       "    </tr>\n",
       "    <tr>\n",
       "      <th>3</th>\n",
       "      <td>Windows Subsystem for Linux (WSL)</td>\n",
       "      <td>20837</td>\n",
       "      <td>21169</td>\n",
       "    </tr>\n",
       "    <tr>\n",
       "      <th>4</th>\n",
       "      <td>BSD</td>\n",
       "      <td>1702</td>\n",
       "      <td>2229</td>\n",
       "    </tr>\n",
       "    <tr>\n",
       "      <th>5</th>\n",
       "      <td>Other (please specify):</td>\n",
       "      <td>652</td>\n",
       "      <td>742</td>\n",
       "    </tr>\n",
       "  </tbody>\n",
       "</table>\n",
       "</div>"
      ],
      "text/plain": [
       "                               OpSys  Professional  Personal\n",
       "0                            Windows         55330     68805\n",
       "1                        Linux-based         48177     45837\n",
       "2                              macOS         38441     34545\n",
       "3  Windows Subsystem for Linux (WSL)         20837     21169\n",
       "4                                BSD          1702      2229\n",
       "5            Other (please specify):           652       742"
      ]
     },
     "execution_count": 4,
     "metadata": {},
     "output_type": "execute_result"
    }
   ],
   "source": [
    "\n",
    "dfx=df.explode('OpSysProfessional use')\n",
    "dfx=dfx.explode('OpSysPersonal use')\n",
    "use_df=dfx['OpSysProfessional use'].value_counts().rename_axis('OpSys').reset_index(name='Professional')\n",
    "per_df=dfx['OpSysPersonal use'].value_counts().rename_axis('OpSys').reset_index(name='Personal')\n",
    "use_df.merge(per_df, how = 'left', on='OpSys')"
   ]
  }
 ],
 "metadata": {
  "kernelspec": {
   "display_name": "Python 3.9.13 64-bit",
   "language": "python",
   "name": "python3"
  },
  "language_info": {
   "codemirror_mode": {
    "name": "ipython",
    "version": 3
   },
   "file_extension": ".py",
   "mimetype": "text/x-python",
   "name": "python",
   "nbconvert_exporter": "python",
   "pygments_lexer": "ipython3",
   "version": "3.9.13"
  },
  "orig_nbformat": 4,
  "vscode": {
   "interpreter": {
    "hash": "d1211442801dedca1ce17f998153cefe4c9170ed9d7be63a30c94147bbf2d916"
   }
  }
 },
 "nbformat": 4,
 "nbformat_minor": 2
}
